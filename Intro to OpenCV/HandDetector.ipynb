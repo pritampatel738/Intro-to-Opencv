{
 "cells": [
  {
   "cell_type": "code",
   "execution_count": 11,
   "metadata": {},
   "outputs": [
    {
     "ename": "error",
     "evalue": "C:\\ci\\opencv_1512688052760\\work\\modules\\objdetect\\src\\cascadedetect.cpp:1698: error: (-215) !empty() in function cv::CascadeClassifier::detectMultiScale\n",
     "output_type": "error",
     "traceback": [
      "\u001b[1;31m---------------------------------------------------------------------------\u001b[0m",
      "\u001b[1;31merror\u001b[0m                                     Traceback (most recent call last)",
      "\u001b[1;32m<ipython-input-11-1a34c05b7fb1>\u001b[0m in \u001b[0;36m<module>\u001b[1;34m()\u001b[0m\n\u001b[0;32m     23\u001b[0m         \u001b[1;31m#break\u001b[0m\u001b[1;33m\u001b[0m\u001b[1;33m\u001b[0m\u001b[0m\n\u001b[0;32m     24\u001b[0m     \u001b[0mfont\u001b[0m \u001b[1;33m=\u001b[0m \u001b[0mcv2\u001b[0m\u001b[1;33m.\u001b[0m\u001b[0mFONT_HERSHEY_SIMPLEX\u001b[0m\u001b[1;33m\u001b[0m\u001b[0m\n\u001b[1;32m---> 25\u001b[1;33m     \u001b[0mhand\u001b[0m \u001b[1;33m=\u001b[0m \u001b[0mhandCascade\u001b[0m\u001b[1;33m.\u001b[0m\u001b[0mdetectMultiScale\u001b[0m\u001b[1;33m(\u001b[0m\u001b[0mpic\u001b[0m\u001b[1;33m,\u001b[0m\u001b[1;36m1.1\u001b[0m\u001b[1;33m,\u001b[0m\u001b[1;36m5\u001b[0m\u001b[1;33m)\u001b[0m\u001b[1;33m\u001b[0m\u001b[0m\n\u001b[0m\u001b[0;32m     26\u001b[0m \u001b[1;33m\u001b[0m\u001b[0m\n\u001b[0;32m     27\u001b[0m     \u001b[1;32mfor\u001b[0m \u001b[1;33m(\u001b[0m\u001b[0mx\u001b[0m\u001b[1;33m,\u001b[0m\u001b[0my\u001b[0m\u001b[1;33m,\u001b[0m\u001b[0mw\u001b[0m\u001b[1;33m,\u001b[0m\u001b[0mh\u001b[0m\u001b[1;33m)\u001b[0m \u001b[1;32min\u001b[0m \u001b[0mhand\u001b[0m\u001b[1;33m:\u001b[0m\u001b[1;33m\u001b[0m\u001b[0m\n",
      "\u001b[1;31merror\u001b[0m: C:\\ci\\opencv_1512688052760\\work\\modules\\objdetect\\src\\cascadedetect.cpp:1698: error: (-215) !empty() in function cv::CascadeClassifier::detectMultiScale\n"
     ]
    }
   ],
   "source": [
    "import cv2\n",
    "import numpy as np\n",
    "import matplotlib.pyplot as plt\n",
    "%matplotlib inline\n",
    "\n",
    "eyeCascade = cv2.CascadeClassifier('C:\\\\opencv\\\\build\\\\etc\\\\haarcascades\\\\haarcascade_eye.xml')\n",
    "faceCascade = cv2.CascadeClassifier('C:\\\\opencv\\\\build\\\\etc\\\\haarcascades\\\\haarcascade_frontalface_default.xml')\n",
    "handCascade = cv2.CascadeClassifier('C:\\\\opencv\\\\build\\\\etc\\\\haar_hand.xml')\n",
    "\n",
    "cap = cv2.VideoCapture(0)\n",
    "\n",
    "while 1:\n",
    "    \n",
    "    ret , pic = cap.read()\n",
    "    \n",
    "    #if not ret:\n",
    "        #break\n",
    "        \n",
    "   # img = cv2.cvtColor(pic,cv2.COLOR_BGR2GRAY)\n",
    "    face = faceCascade.detectMultiScale(pic,1.3,5)\n",
    "    \n",
    "    #if len(face) == 0:\n",
    "        #break\n",
    "    font = cv2.FONT_HERSHEY_SIMPLEX\n",
    "    hand = handCascade.detectMultiScale(pic,1.1,5)\n",
    "    \n",
    "    for (x,y,w,h) in hand:\n",
    "        cv2.rectangle(pic,(x,y),(x+2,y+h),(255,255,255))\n",
    "        cv2.putText(pic,'Hand',(x,y),font,2,(255,255,255))\n",
    "    \n",
    "   \n",
    "        \n",
    "    \n",
    "    cv2.imshow('img',pic)\n",
    "    \n",
    "    \n",
    "    k = cv2.waitKey(30) & 0xFF\n",
    "    if k==2:\n",
    "        break\n",
    "    \n",
    "cap.release()\n",
    "cv2.destroyAllWindows()"
   ]
  },
  {
   "cell_type": "code",
   "execution_count": null,
   "metadata": {},
   "outputs": [],
   "source": []
  },
  {
   "cell_type": "code",
   "execution_count": null,
   "metadata": {},
   "outputs": [],
   "source": []
  },
  {
   "cell_type": "code",
   "execution_count": null,
   "metadata": {},
   "outputs": [],
   "source": []
  }
 ],
 "metadata": {
  "kernelspec": {
   "display_name": "Python 3",
   "language": "python",
   "name": "python3"
  },
  "language_info": {
   "codemirror_mode": {
    "name": "ipython",
    "version": 3
   },
   "file_extension": ".py",
   "mimetype": "text/x-python",
   "name": "python",
   "nbconvert_exporter": "python",
   "pygments_lexer": "ipython3",
   "version": "3.6.6"
  }
 },
 "nbformat": 4,
 "nbformat_minor": 2
}
